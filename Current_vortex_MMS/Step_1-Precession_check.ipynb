{
 "cells": [
  {
   "cell_type": "markdown",
   "id": "b532af11",
   "metadata": {},
   "source": [
    "## This code is meant to see the magnetization precession in Permalloy\n",
    "\n",
    "Checking if I can do this using Ubermag"
   ]
  },
  {
   "cell_type": "code",
   "execution_count": 2,
   "id": "cff7278e",
   "metadata": {},
   "outputs": [],
   "source": [
    "import micromagneticmodel as mm\n",
    "import discretisedfield as df\n",
    "import oommfc as mc"
   ]
  },
  {
   "cell_type": "markdown",
   "id": "9d957183",
   "metadata": {},
   "source": [
    "Step 1: Define the new system to be build and define the geometry and magnetic properties"
   ]
  },
  {
   "cell_type": "code",
   "execution_count": null,
   "id": "115d3b79",
   "metadata": {},
   "outputs": [],
   "source": [
    "#Geometry\n"
   ]
  }
 ],
 "metadata": {
  "kernelspec": {
   "display_name": "Python 3",
   "language": "python",
   "name": "python3"
  },
  "language_info": {
   "codemirror_mode": {
    "name": "ipython",
    "version": 3
   },
   "file_extension": ".py",
   "mimetype": "text/x-python",
   "name": "python",
   "nbconvert_exporter": "python",
   "pygments_lexer": "ipython3",
   "version": "3.8.8"
  }
 },
 "nbformat": 4,
 "nbformat_minor": 5
}
